{
 "cells": [
  {
   "cell_type": "code",
   "execution_count": 1,
   "id": "3632892f",
   "metadata": {},
   "outputs": [
    {
     "name": "stderr",
     "output_type": "stream",
     "text": [
      "/cvmfs/cms.cern.ch/slc7_amd64_gcc10/external/py3-setuptools/60.9.3-ddcab3b6a742c72fed5554de8ccaaf18/lib/python3.9/site-packages/_distutils_hack/__init__.py:17: UserWarning: Distutils was imported before Setuptools, but importing Setuptools also replaces the `distutils` module in `sys.modules`. This may lead to undesirable behaviors or errors. To avoid these issues, avoid using distutils directly, ensure that setuptools is installed in the traditional way (e.g. not an editable install), and/or make sure that setuptools is always imported before distutils.\n",
      "  warnings.warn(\n",
      "/cvmfs/cms.cern.ch/slc7_amd64_gcc10/external/py3-setuptools/60.9.3-ddcab3b6a742c72fed5554de8ccaaf18/lib/python3.9/site-packages/_distutils_hack/__init__.py:30: UserWarning: Setuptools is replacing distutils.\n",
      "  warnings.warn(\"Setuptools is replacing distutils.\")\n"
     ]
    }
   ],
   "source": [
    "import warnings\n",
    "import numpy as np\n",
    "import numba\n",
    "import matplotlib.pyplot as plt\n",
    "from coffea.nanoevents import NanoEventsFactory\n",
    "import awkward as ak\n",
    "import pandas as pd\n",
    "import json"
   ]
  },
  {
   "cell_type": "code",
   "execution_count": 2,
   "id": "1ea3fc2d",
   "metadata": {},
   "outputs": [],
   "source": [
    "fn = \"VBF_SMEFTsim_topU3l_NP1_123.root\"\n",
    "with warnings.catch_warnings():\n",
    "    warnings.simplefilter(\"ignore\")\n",
    "    events = NanoEventsFactory.from_root(fn).events()"
   ]
  },
  {
   "cell_type": "code",
   "execution_count": 3,
   "id": "50e0da34",
   "metadata": {},
   "outputs": [],
   "source": []
  },
  {
   "cell_type": "code",
   "execution_count": 23,
   "id": "fd58ffd4",
   "metadata": {},
   "outputs": [
    {
     "data": {
      "image/png": "[encoded data removed]",
      "text/plain": [
       "<Figure size 432x288 with 1 Axes>"
      ]
     },
     "metadata": {
      "needs_background": "light"
     },
     "output_type": "display_data"
    }
   ],
   "source": []
  },
  {
   "cell_type": "code",
   "execution_count": 25,
   "id": "2b35d264",
   "metadata": {},
   "outputs": [
    {
     "data": {
      "text/plain": [
       "'cHj3=1.0,cHu=1.0'"
      ]
     },
     "execution_count": 25,
     "metadata": {},
     "output_type": "execute_result"
    }
   ],
   "source": []
  },
  {
   "cell_type": "code",
   "execution_count": 5,
   "id": "7435aaae",
   "metadata": {},
   "outputs": [],
   "source": [
    "with open('dictionary.json') as f:\n",
    "    d = json.load(f)"
   ]
  },
  {
   "cell_type": "code",
   "execution_count": 6,
   "id": "d1b76600",
   "metadata": {},
   "outputs": [],
   "source": [
    "def weight_names(reweight_card):\n",
    "    \n",
    "    array = []\n",
    "    \n",
    "    weight_index = 0\n",
    "    \n",
    "    with open(reweight_card, \"r+\") as file1:\n",
    "        for line in file1.readlines():\n",
    "            \n",
    "            if 'launch' in line:\n",
    "                weight_index += 1\n",
    "                continue\n",
    "                \n",
    "            if 'rwgt' in line:\n",
    "                continue\n",
    "                \n",
    "            array += [[weight_index]+line.split()[1:]]\n",
    "            \n",
    "        # Reading from a file\n",
    "        #whole_file = file1.read()\n",
    "        \n",
    "    #points = whole_file.split('\\n')\n",
    "    #print(points)\n",
    "    \n",
    "    \n",
    "    #df = pd.read_csv(reweight_card,sep=' ',skiprows=1,header=None,usecols=[1,2,3])\n",
    "    #df = df[df[3]>0]\n",
    "    #print(df)\n",
    "    \n",
    "    \n",
    "    df = pd.DataFrame(array,columns=['weight_index','model','param_index','value'])\n",
    "    df['value'] = df['value'].astype('float')\n",
    "    df = df[df['value']>0]\n",
    "    \n",
    "    param_name = []\n",
    "    for index, row in df.iterrows():\n",
    "        param_name += [d[row['model']][row['param_index']]]\n",
    "    \n",
    "    df['param_name'] = param_name\n",
    "\n",
    "    \n",
    "    df['weight_name'] = df['param_name']+\"=\"+df['value'].astype('string')\n",
    "    \n",
    "    names = []\n",
    "    for i in np.unique(df['weight_index']):\n",
    "        name = \"\"\n",
    "        for n in df[df['weight_index']==i][\"weight_name\"]:\n",
    "            if len(name)>0:\n",
    "                name += \",\"\n",
    "            name += n\n",
    "        names += [name]\n",
    "\n",
    "    return names\n",
    "\n",
    "def param_names(reweight_card):\n",
    "    df = pd.read_csv(reweight_card,sep=' ',skiprows=2,header=None)\n",
    "    print(df)\n",
    "    #df = df[[1,2,3]][(df[1]==\"SMEFT\") | (df[1]==\"SMEFTcpv\")].drop_duplicates()"
   ]
  },
  {
   "cell_type": "code",
   "execution_count": 16,
   "id": "e89380ce",
   "metadata": {},
   "outputs": [
    {
     "name": "stdout",
     "output_type": "stream",
     "text": [
      "cHbox=0.5\n",
      "cHbox=1.0\n",
      "cHDD=0.5\n",
      "cHDD=1.0\n",
      "cHj1=0.5\n",
      "cHj1=1.0\n",
      "cHj3=0.5\n",
      "cHj3=1.0\n",
      "cHu=0.5\n",
      "cHu=1.0\n",
      "cHd=0.5\n",
      "cHd=1.0\n",
      "cHudRe=0.5\n",
      "cHudRe=1.0\n",
      "cuWRe=0.5\n",
      "cuWRe=1.0\n",
      "cuBRe=0.5\n",
      "cuBRe=1.0\n",
      "cdWRe=0.5\n",
      "cdWRe=1.0\n",
      "cdBRe=0.5\n",
      "cdBRe=1.0\n",
      "cHW=0.5\n",
      "cHW=1.0\n",
      "cHB=0.5\n",
      "cHB=1.0\n",
      "cHWB=0.5\n",
      "cHWB=1.0\n",
      "cHudIm=0.5\n",
      "cHudIm=1.0\n",
      "cuWIm=0.5\n",
      "cuWIm=1.0\n",
      "cutbd1Im=0.5\n",
      "cutbd1Im=1.0\n",
      "cuBIm=0.5\n",
      "cuBIm=1.0\n",
      "cdBIm=0.5\n",
      "cdBIm=1.0\n",
      "cHWtil=0.5\n",
      "cHWtil=1.0\n",
      "cHBtil=0.5\n",
      "cHBtil=1.0\n",
      "cHWBtil=0.5\n",
      "cHWBtil=1.0\n",
      "cHbox=1.0,cHDD=1.0\n",
      "cHbox=1.0,cHj1=1.0\n",
      "cHbox=1.0,cHj3=1.0\n",
      "cHbox=1.0,cHu=1.0\n",
      "cHbox=1.0,cHd=1.0\n",
      "cHbox=1.0,cHudRe=1.0\n",
      "cHbox=1.0,cuWRe=1.0\n",
      "cHbox=1.0,cuBRe=1.0\n",
      "cHbox=1.0,cdWRe=1.0\n",
      "cHbox=1.0,cdBRe=1.0\n",
      "cHbox=1.0,cHW=1.0\n",
      "cHbox=1.0,cHB=1.0\n",
      "cHbox=1.0,cHWB=1.0\n",
      "cHbox=1.0,cHudIm=1.0\n",
      "cHbox=1.0,cuWIm=1.0\n",
      "cHbox=1.0,cutbd1Im=1.0\n",
      "cHbox=1.0,cuBIm=1.0\n",
      "cHbox=1.0,cdBIm=1.0\n",
      "cHbox=1.0,cHWtil=1.0\n",
      "cHbox=1.0,cHBtil=1.0\n",
      "cHbox=1.0,cHWBtil=1.0\n",
      "cHDD=1.0,cHj1=1.0\n",
      "cHDD=1.0,cHj3=1.0\n",
      "cHDD=1.0,cHu=1.0\n",
      "cHDD=1.0,cHd=1.0\n",
      "cHDD=1.0,cHudRe=1.0\n",
      "cHDD=1.0,cuWRe=1.0\n",
      "cHDD=1.0,cuBRe=1.0\n",
      "cHDD=1.0,cdWRe=1.0\n",
      "cHDD=1.0,cdBRe=1.0\n",
      "cHDD=1.0,cHW=1.0\n",
      "cHDD=1.0,cHB=1.0\n",
      "cHDD=1.0,cHWB=1.0\n",
      "cHDD=1.0,cHudIm=1.0\n",
      "cHDD=1.0,cuWIm=1.0\n",
      "cHDD=1.0,cutbd1Im=1.0\n",
      "cHDD=1.0,cuBIm=1.0\n",
      "cHDD=1.0,cdBIm=1.0\n",
      "cHDD=1.0,cHWtil=1.0\n",
      "cHDD=1.0,cHBtil=1.0\n",
      "cHDD=1.0,cHWBtil=1.0\n",
      "cHj1=1.0,cHj3=1.0\n",
      "cHj1=1.0,cHu=1.0\n",
      "cHj1=1.0,cHd=1.0\n",
      "cHj1=1.0,cHudRe=1.0\n",
      "cHj1=1.0,cuWRe=1.0\n",
      "cHj1=1.0,cuBRe=1.0\n",
      "cHj1=1.0,cdWRe=1.0\n",
      "cHj1=1.0,cdBRe=1.0\n",
      "cHj1=1.0,cHW=1.0\n",
      "cHj1=1.0,cHB=1.0\n",
      "cHj1=1.0,cHWB=1.0\n",
      "cHj1=1.0,cHudIm=1.0\n",
      "cHj1=1.0,cuWIm=1.0\n",
      "cHj1=1.0,cutbd1Im=1.0\n",
      "cHj1=1.0,cuBIm=1.0\n",
      "cHj1=1.0,cdBIm=1.0\n",
      "cHj1=1.0,cHWtil=1.0\n",
      "cHj1=1.0,cHBtil=1.0\n",
      "cHj1=1.0,cHWBtil=1.0\n",
      "cHj3=1.0,cHu=1.0\n",
      "cHj3=1.0,cHd=1.0\n",
      "cHj3=1.0,cHudRe=1.0\n",
      "cHj3=1.0,cuWRe=1.0\n",
      "cHj3=1.0,cuBRe=1.0\n",
      "cHj3=1.0,cdWRe=1.0\n",
      "cHj3=1.0,cdBRe=1.0\n",
      "cHj3=1.0,cHW=1.0\n",
      "cHj3=1.0,cHB=1.0\n",
      "cHj3=1.0,cHWB=1.0\n",
      "cHj3=1.0,cHudIm=1.0\n",
      "cHj3=1.0,cuWIm=1.0\n",
      "cHj3=1.0,cutbd1Im=1.0\n",
      "cHj3=1.0,cuBIm=1.0\n",
      "cHj3=1.0,cdBIm=1.0\n",
      "cHj3=1.0,cHWtil=1.0\n",
      "cHj3=1.0,cHBtil=1.0\n",
      "cHj3=1.0,cHWBtil=1.0\n",
      "cHu=1.0,cHd=1.0\n",
      "cHu=1.0,cHudRe=1.0\n",
      "cHu=1.0,cuWRe=1.0\n",
      "cHu=1.0,cuBRe=1.0\n",
      "cHu=1.0,cdWRe=1.0\n",
      "cHu=1.0,cdBRe=1.0\n",
      "cHu=1.0,cHW=1.0\n",
      "cHu=1.0,cHB=1.0\n",
      "cHu=1.0,cHWB=1.0\n",
      "cHu=1.0,cHudIm=1.0\n",
      "cHu=1.0,cuWIm=1.0\n",
      "cHu=1.0,cutbd1Im=1.0\n",
      "cHu=1.0,cuBIm=1.0\n",
      "cHu=1.0,cdBIm=1.0\n",
      "cHu=1.0,cHWtil=1.0\n",
      "cHu=1.0,cHBtil=1.0\n",
      "cHu=1.0,cHWBtil=1.0\n",
      "cHd=1.0,cHudRe=1.0\n",
      "cHd=1.0,cuWRe=1.0\n",
      "cHd=1.0,cuBRe=1.0\n",
      "cHd=1.0,cdWRe=1.0\n",
      "cHd=1.0,cdBRe=1.0\n",
      "cHd=1.0,cHW=1.0\n",
      "cHd=1.0,cHB=1.0\n",
      "cHd=1.0,cHWB=1.0\n",
      "cHd=1.0,cHudIm=1.0\n",
      "cHd=1.0,cuWIm=1.0\n",
      "cHd=1.0,cutbd1Im=1.0\n",
      "cHd=1.0,cuBIm=1.0\n",
      "cHd=1.0,cdBIm=1.0\n",
      "cHd=1.0,cHWtil=1.0\n",
      "cHd=1.0,cHBtil=1.0\n",
      "cHd=1.0,cHWBtil=1.0\n",
      "cHudRe=1.0,cuWRe=1.0\n",
      "cHudRe=1.0,cuBRe=1.0\n",
      "cHudRe=1.0,cdWRe=1.0\n",
      "cHudRe=1.0,cdBRe=1.0\n",
      "cHudRe=1.0,cHW=1.0\n",
      "cHudRe=1.0,cHB=1.0\n",
      "cHudRe=1.0,cHWB=1.0\n",
      "cHudRe=1.0,cHudIm=1.0\n",
      "cHudRe=1.0,cuWIm=1.0\n",
      "cHudRe=1.0,cutbd1Im=1.0\n",
      "cHudRe=1.0,cuBIm=1.0\n",
      "cHudRe=1.0,cdBIm=1.0\n",
      "cHudRe=1.0,cHWtil=1.0\n",
      "cHudRe=1.0,cHBtil=1.0\n",
      "cHudRe=1.0,cHWBtil=1.0\n",
      "cuWRe=1.0,cuBRe=1.0\n",
      "cuWRe=1.0,cdWRe=1.0\n",
      "cuWRe=1.0,cdBRe=1.0\n",
      "cuWRe=1.0,cHW=1.0\n",
      "cuWRe=1.0,cHB=1.0\n",
      "cuWRe=1.0,cHWB=1.0\n",
      "cuWRe=1.0,cHudIm=1.0\n",
      "cuWRe=1.0,cuWIm=1.0\n",
      "cuWRe=1.0,cutbd1Im=1.0\n",
      "cuWRe=1.0,cuBIm=1.0\n",
      "cuWRe=1.0,cdBIm=1.0\n",
      "cuWRe=1.0,cHWtil=1.0\n",
      "cuWRe=1.0,cHBtil=1.0\n",
      "cuWRe=1.0,cHWBtil=1.0\n",
      "cuBRe=1.0,cdWRe=1.0\n",
      "cuBRe=1.0,cdBRe=1.0\n",
      "cuBRe=1.0,cHW=1.0\n",
      "cuBRe=1.0,cHB=1.0\n",
      "cuBRe=1.0,cHWB=1.0\n",
      "cuBRe=1.0,cHudIm=1.0\n",
      "cuBRe=1.0,cuWIm=1.0\n",
      "cuBRe=1.0,cutbd1Im=1.0\n",
      "cuBRe=1.0,cuBIm=1.0\n",
      "cuBRe=1.0,cdBIm=1.0\n",
      "cuBRe=1.0,cHWtil=1.0\n",
      "cuBRe=1.0,cHBtil=1.0\n",
      "cuBRe=1.0,cHWBtil=1.0\n",
      "cdWRe=1.0,cdBRe=1.0\n",
      "cdWRe=1.0,cHW=1.0\n",
      "cdWRe=1.0,cHB=1.0\n",
      "cdWRe=1.0,cHWB=1.0\n",
      "cdWRe=1.0,cHudIm=1.0\n",
      "cdWRe=1.0,cuWIm=1.0\n",
      "cdWRe=1.0,cutbd1Im=1.0\n",
      "cdWRe=1.0,cuBIm=1.0\n",
      "cdWRe=1.0,cdBIm=1.0\n",
      "cdWRe=1.0,cHWtil=1.0\n",
      "cdWRe=1.0,cHBtil=1.0\n",
      "cdWRe=1.0,cHWBtil=1.0\n",
      "cdBRe=1.0,cHW=1.0\n",
      "cdBRe=1.0,cHB=1.0\n",
      "cdBRe=1.0,cHWB=1.0\n",
      "cdBRe=1.0,cHudIm=1.0\n",
      "cdBRe=1.0,cuWIm=1.0\n",
      "cdBRe=1.0,cutbd1Im=1.0\n",
      "cdBRe=1.0,cuBIm=1.0\n",
      "cdBRe=1.0,cdBIm=1.0\n",
      "cdBRe=1.0,cHWtil=1.0\n",
      "cdBRe=1.0,cHBtil=1.0\n",
      "cdBRe=1.0,cHWBtil=1.0\n",
      "cHW=1.0,cHB=1.0\n",
      "cHW=1.0,cHWB=1.0\n",
      "cHW=1.0,cHudIm=1.0\n",
      "cHW=1.0,cuWIm=1.0\n",
      "cHW=1.0,cutbd1Im=1.0\n",
      "cHW=1.0,cuBIm=1.0\n",
      "cHW=1.0,cdBIm=1.0\n",
      "cHW=1.0,cHWtil=1.0\n",
      "cHW=1.0,cHBtil=1.0\n",
      "cHW=1.0,cHWBtil=1.0\n",
      "cHB=1.0,cHWB=1.0\n",
      "cHB=1.0,cHudIm=1.0\n",
      "cHB=1.0,cuWIm=1.0\n",
      "cHB=1.0,cutbd1Im=1.0\n",
      "cHB=1.0,cuBIm=1.0\n",
      "cHB=1.0,cdBIm=1.0\n",
      "cHB=1.0,cHWtil=1.0\n",
      "cHB=1.0,cHBtil=1.0\n",
      "cHB=1.0,cHWBtil=1.0\n",
      "cHWB=1.0,cHudIm=1.0\n",
      "cHWB=1.0,cuWIm=1.0\n",
      "cHWB=1.0,cutbd1Im=1.0\n",
      "cHWB=1.0,cuBIm=1.0\n",
      "cHWB=1.0,cdBIm=1.0\n",
      "cHWB=1.0,cHWtil=1.0\n",
      "cHWB=1.0,cHBtil=1.0\n",
      "cHWB=1.0,cHWBtil=1.0\n",
      "cHudIm=1.0,cuWIm=1.0\n",
      "cHudIm=1.0,cutbd1Im=1.0\n",
      "cHudIm=1.0,cuBIm=1.0\n",
      "cHudIm=1.0,cdBIm=1.0\n",
      "cHudIm=1.0,cHWtil=1.0\n",
      "cHudIm=1.0,cHBtil=1.0\n",
      "cHudIm=1.0,cHWBtil=1.0\n",
      "cuWIm=1.0,cutbd1Im=1.0\n",
      "cuWIm=1.0,cuBIm=1.0\n",
      "cuWIm=1.0,cdBIm=1.0\n",
      "cuWIm=1.0,cHWtil=1.0\n",
      "cuWIm=1.0,cHBtil=1.0\n",
      "cuWIm=1.0,cHWBtil=1.0\n",
      "cutbd1Im=1.0,cuBIm=1.0\n",
      "cutbd1Im=1.0,cdBIm=1.0\n",
      "cutbd1Im=1.0,cHWtil=1.0\n",
      "cutbd1Im=1.0,cHBtil=1.0\n",
      "cutbd1Im=1.0,cHWBtil=1.0\n",
      "cuBIm=1.0,cdBIm=1.0\n",
      "cuBIm=1.0,cHWtil=1.0\n",
      "cuBIm=1.0,cHBtil=1.0\n",
      "cuBIm=1.0,cHWBtil=1.0\n",
      "cdBIm=1.0,cHWtil=1.0\n",
      "cdBIm=1.0,cHBtil=1.0\n",
      "cdBIm=1.0,cHWBtil=1.0\n",
      "cHWtil=1.0,cHBtil=1.0\n",
      "cHWtil=1.0,cHWBtil=1.0\n",
      "cHBtil=1.0,cHWBtil=1.0\n"
     ]
    }
   ],
   "source": [
    "names = weight_names(\"VBF_SMEFTsim_topU3l_NP1_reweight_card.dat\")\n",
    "for n in names:\n",
    "    print(n)"
   ]
  },
  {
   "cell_type": "code",
   "execution_count": 26,
   "id": "2740f478",
   "metadata": {},
   "outputs": [],
   "source": [
    "nevents = len(events)\n",
    "rw_xs = np.sum(events.Generator.weight*events.LHEReweightingWeight,axis=0)/nevents\n",
    "rw_xs_unc = 0.01"
   ]
  },
  {
   "cell_type": "code",
   "execution_count": 27,
   "id": "01d4891d",
   "metadata": {},
   "outputs": [
    {
     "data": {
      "text/plain": [
       "'cHj3=1.0,cHu=1.0'"
      ]
     },
     "execution_count": 27,
     "metadata": {},
     "output_type": "execute_result"
    }
   ],
   "source": [
    "names[np.argmin(rw_xs)]"
   ]
  },
  {
   "cell_type": "code",
   "execution_count": 28,
   "id": "7d116640",
   "metadata": {},
   "outputs": [
    {
     "data": {
      "text/plain": [
       "'cHbox=1.0,cHj1=1.0'"
      ]
     },
     "execution_count": 28,
     "metadata": {},
     "output_type": "execute_result"
    }
   ],
   "source": [
    "names[np.argmax(rw_xs)]"
   ]
  },
  {
   "cell_type": "code",
   "execution_count": null,
   "id": "93381e9f",
   "metadata": {},
   "outputs": [],
   "source": [
    "plt.hist(rw_xs,bins=np.linspace(2,5,50),histtype='step')\n",
    "plt.plot([3.675,3.675],[0.001,1000],color='red')\n",
    "plt.ylim(0.5,500)\n",
    "plt.xlabel('Cross section [pb]')\n",
    "plt.ylabel('Reweighted points')\n",
    "plt.yscale('log')"
   ]
  },
  {
   "cell_type": "code",
   "execution_count": 8,
   "id": "d113c7c7",
   "metadata": {},
   "outputs": [],
   "source": [
    "df = pd.DataFrame()\n",
    "df['names'] = names\n",
    "df['rw_xs'] = rw_xs\n",
    "df['rw_xs_unc'] = rw_xs_unc"
   ]
  },
  {
   "cell_type": "code",
   "execution_count": 9,
   "id": "ee580dc7",
   "metadata": {},
   "outputs": [],
   "source": [
    "#df = df[np.invert(names_series.str.contains(\"0.5\")) & np.invert(names_series.str.contains(\",\"))]\n",
    "to_draw = ['cHj1=1.0','cHj3=1.0','cHudRe=1.0','cHW=1.0','cHWtil=1.0']\n",
    "df = df[(df['names']=='cHj1=1.0') | \n",
    "        (df['names']=='cHj3=1.0') | \n",
    "        (df['names']=='cHudRe=1.0') | \n",
    "        (df['names']=='cHW=1.0') | \n",
    "        (df['names']=='cHWtil=1.0')]"
   ]
  },
  {
   "cell_type": "code",
   "execution_count": 10,
   "id": "24a28833",
   "metadata": {},
   "outputs": [],
   "source": [
    "suman_xs = [3.86,2.79,3.71,3.6,3.82]\n",
    "suman_xs_unc = [0.01,0.01,0.01,0.01,0.01]"
   ]
  },
  {
   "cell_type": "code",
   "execution_count": 11,
   "id": "e7cb9512",
   "metadata": {},
   "outputs": [
    {
     "data": {
      "text/plain": [
       "Text(0, 0.5, 'Cross section [pb]')"
      ]
     },
     "execution_count": 11,
     "metadata": {},
     "output_type": "execute_result"
    },
    {
     "data": {
      "image/png": "[encoded data removed]",
      "text/plain": [
       "<Figure size 432x288 with 1 Axes>"
      ]
     },
     "metadata": {
      "needs_background": "light"
     },
     "output_type": "display_data"
    }
   ],
   "source": [
    "plt.errorbar(x=df[\"names\"],y=df['rw_xs'],yerr=df['rw_xs_unc'],linestyle='',marker='o',label='Reweighted')\n",
    "plt.errorbar(x=df[\"names\"],y=suman_xs,yerr=suman_xs_unc,linestyle='',marker='o',label='Direct simluation')\n",
    "plt.legend(frameon=False)\n",
    "plt.ylabel('Cross section [pb]')"
   ]
  },
  {
   "cell_type": "code",
   "execution_count": 13,
   "id": "c89ccbf7",
   "metadata": {},
   "outputs": [
    {
     "data": {
      "text/plain": [
       "Text(0, 0.5, 'Cross section ratio rw/direct')"
      ]
     },
     "execution_count": 13,
     "metadata": {},
     "output_type": "execute_result"
    },
    {
     "data": {
      "image/png": "[encoded data removed]",
      "text/plain": [
       "<Figure size 432x288 with 1 Axes>"
      ]
     },
     "metadata": {
      "needs_background": "light"
     },
     "output_type": "display_data"
    }
   ],
   "source": [
    "plt.plot([-1,5],[1,1],linestyle='--',color='gray')\n",
    "plt.scatter(x=df[\"names\"],y=df['rw_xs']/suman_xs,marker='o',label='Reweighting')\n",
    "plt.ylim(0.95,1.02)\n",
    "plt.xlim(-0.5,4.5)\n",
    "plt.ylabel('Cross section ratio rw/direct')"
   ]
  },
  {
   "cell_type": "code",
   "execution_count": null,
   "id": "b7b1e08b",
   "metadata": {},
   "outputs": [],
   "source": []
  }
 ],
 "metadata": {
  "kernelspec": {
   "display_name": "Python 3 (ipykernel)",
   "language": "python",
   "name": "python3"
  },
  "language_info": {
   "codemirror_mode": {
    "name": "ipython",
    "version": 3
   },
   "file_extension": ".py",
   "mimetype": "text/x-python",
   "name": "python",
   "nbconvert_exporter": "python",
   "pygments_lexer": "ipython3",
   "version": "3.9.6"
  }
 },
 "nbformat": 4,
 "nbformat_minor": 5
}

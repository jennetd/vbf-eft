{
 "cells": [
  {
   "cell_type": "code",
   "execution_count": 1,
   "id": "ed9dc7d4",
   "metadata": {},
   "outputs": [],
   "source": [
    "from coffea import util, processor\n",
    "from coffea.nanoevents import NanoEventsFactory, NanoAODSchema\n",
    "\n",
    "import vbfprocessor\n",
    "import awkward as ak\n",
    "import uproot\n",
    "\n",
    "import os\n",
    "import time"
   ]
  },
  {
   "cell_type": "code",
   "execution_count": 2,
   "id": "de2d0e9c",
   "metadata": {},
   "outputs": [],
   "source": [
    "all_filesets = {\n",
    "    \"VBF_SMEFTsim_topU3l_NP1\": [\n",
    "        \"root://cmseos.fnal.gov//store/user/jdickins/vbf-eft/VBF_SMEFTsim_topU3l_NP1/VBF_SMEFTsim_topU3l_NP1/230526_132704/0000/VBFH_SMEFTsim_\"+str(i)+\".root\" for i in range(1,201)\n",
    "    ],\n",
    "    \"VBF_SMEFTsim_topU3l_Direct_cHbox\": [\n",
    "         \"root://cmseos.fnal.gov//store/user/jennetd/vbf-eft/VBF_SMEFTsim_topU3l_Direct_cHbox/VBF_SMEFTsim_topU3l_Direct_cHbox/230919_233803/0000/VBFH_SMEFTsim_\"+str(i)+\".root\" for i in range(1,201)\n",
    "    ],\n",
    "    \"VBF_SMEFTsim_topU3l_Linear_cHW\": [\n",
    "         \"root://cmseos.fnal.gov//store/user/jennetd/vbf-eft/VBF_SMEFTsim_topU3l_Linear_cHW/VBF_SMEFTsim_topU3l_Linear_cHW/230920_001033/0000/VBFH_SMEFTsim_\"+str(i)+\".root\" for i in range(1,201)\n",
    "    ],\n",
    "    \"VBF_SMEFTsim_topU3l_Quad_cHW\": [\n",
    "         \"root://cmseos.fnal.gov//store/user/jennetd/vbf-eft/VBF_SMEFTsim_topU3l_Quad_cHW/VBF_SMEFTsim_topU3l_Quad_cHW/230920_001106/0000/VBFH_SMEFTsim_\"+str(i)+\".root\" for i in range(1,201)\n",
    "    ],\n",
    "    \"VBF_SMEFTsim_topU3l_Linear_cHWtil\": [\n",
    "         \"root://cmseos.fnal.gov//store/user/jennetd/vbf-eft/VBF_SMEFTsim_topU3l_Linear_cHWtil/VBF_SMEFTsim_topU3l_Linear_cHWtil/230920_003136/0000/VBFH_SMEFTsim_\"+str(i)+\".root\" for i in range(1,201)\n",
    "    ],\n",
    "    \"VBF_SMEFTsim_topU3l_Quad_cHWtil\": [\n",
    "         \"root://cmseos.fnal.gov//store/user/jennetd/vbf-eft/VBF_SMEFTsim_topU3l_Quad_cHWtil/VBF_SMEFTsim_topU3l_Quad_cHWtil/230920_003225/0000/VBFH_SMEFTsim_\"+str(i)+\".root\" for i in range(1,201)\n",
    "    ],   \n",
    "    \"VBF_SMEFTsim_topU3l_Linear_cHbox\": [\n",
    "         \"root://cmseos.fnal.gov//store/user/jennetd/vbf-eft/VBF_SMEFTsim_topU3l_Linear_cHbox/VBF_SMEFTsim_topU3l_Linear_cHbox/230919_235238/0000/VBFH_SMEFTsim_\"+str(i)+\".root\" for i in range(1,201)\n",
    "    ],\n",
    "    \"VBF_SMEFTsim_topU3l_Quad_cHbox\": [\n",
    "         \"root://cmseos.fnal.gov//store/user/jennetd/vbf-eft/VBF_SMEFTsim_topU3l_Quad_cHbox/VBF_SMEFTsim_topU3l_Quad_cHbox/230919_235331/0000/VBFH_SMEFTsim_\"+str(i)+\".root\" for i in range(1,201)\n",
    "    ],  \n",
    "    \"VBF_SMEFTsim_topU3l_Linear_cHj1\": [\n",
    "         \"root://cmseos.fnal.gov//store/user/jennetd/vbf-eft/VBF_SMEFTsim_topU3l_Linear_cHj1/VBF_SMEFTsim_topU3l_Linear_cHj1/230919_233248/0000/VBFH_SMEFTsim_\"+str(i)+\".root\" for i in range(1,201)\n",
    "    ], \n",
    "    \"VBF_SMEFTsim_topU3l_Quad_cHj1\": [\n",
    "         \"root://cmseos.fnal.gov//store/user/jennetd/vbf-eft/VBF_SMEFTsim_topU3l_Quad_cHj1/VBF_SMEFTsim_topU3l_Quad_cHj1/230919_233036/0000/VBFH_SMEFTsim_\"+str(i)+\".root\" for i in range(1,201)\n",
    "    ],\n",
    "    \"VBF_SMEFTsim_topU3l_Linear_cHj3\": [\n",
    "         \"root://cmseos.fnal.gov//store/user/jennetd/vbf-eft/VBF_SMEFTsim_topU3l_Linear_cHj3/VBF_SMEFTsim_topU3l_Linear_cHj3/230919_233413/0000/VBFH_SMEFTsim_\"+str(i)+\".root\" for i in range(1,201)\n",
    "    ], \n",
    "    \"VBF_SMEFTsim_topU3l_Quad_cHj3\": [\n",
    "         \"root://cmseos.fnal.gov//store/user/jennetd/vbf-eft/VBF_SMEFTsim_topU3l_Quad_cHj3/VBF_SMEFTsim_topU3l_Quad_cHj3/230919_233144/0000/VBFH_SMEFTsim_\"+str(i)+\".root\" for i in range(1,201)\n",
    "    ],\n",
    "    \"VBF_SMEFTsim_topU3l_Direct_cHj1\": [\n",
    "         \"root://cmseos.fnal.gov//store/user/jennetd/vbf-eft/VBFH_SMEFTsim_NPall_topU3l_cHj1_1/VBFH_SMEFTsim_NPall_topU3l_cHj1_1/230519_134829/0000/VBFH_SMEFTsim_\"+str(i)+\".root\" for i in range(1,201)\n",
    "    ],\n",
    "    \"VBF_SMEFTsim_topU3l_Direct_cHj3\": [\n",
    "         \"root://cmseos.fnal.gov//store/user/jennetd/vbf-eft/VBFH_SMEFTsim_NPall_topU3l_cHj3_1/VBFH_SMEFTsim_NPall_topU3l_cHj3_1/230519_134845/0000/VBFH_SMEFTsim_\"+str(i)+\".root\" for i in range(1,201)\n",
    "    ],\n",
    "    \"VBF_SMEFTsim_topU3l_Direct_cHW\": [\n",
    "         \"root://cmseos.fnal.gov//store/user/jennetd/vbf-eft/VBFH_SMEFTsim_NPall_topU3l_cHW_1/VBFH_SMEFTsim_NPall_topU3l_cHW_1/230519_134915/0000/VBFH_SMEFTsim_\"+str(i)+\".root\" for i in range(1,201)\n",
    "    ],\n",
    "    \"VBF_SMEFTsim_topU3l_Direct_cHWtil\": [\n",
    "         \"root://cmseos.fnal.gov//store/user/jennetd/vbf-eft/VBFH_SMEFTsim_NPall_topU3l_cHWtil_1/VBFH_SMEFTsim_NPall_topU3l_cHWtil_1/230519_134931/0000//VBFH_SMEFTsim_\"+str(i)+\".root\" for i in range(1,201)\n",
    "    ],\n",
    "    \"Hqq_SMEFTsim_topU3l_NP1\": [\n",
    "         \"root://cmseos.fnal.gov//store/user/jdickins/vbf-eft/Hqq_SMEFTsim_topU3l_NP1/Hqq_SMEFTsim_topU3l_NP1/230918_201208/0000/VBFH_SMEFTsim_\"+str(i)+\".root\" for i in range(1,201)\n",
    "    ],\n",
    "    \"Hqq_SMEFTsim_topU3l_Direct_cHW\": [\n",
    "         \"root://cmseos.fnal.gov//store/user/jdickins/vbf-eft/Hqq_SMEFTsim_topU3l_Direct_cHW/Hqq_SMEFTsim_topU3l_Direct_cHW/230918_220845/0000/VBFH_SMEFTsim_\"+str(i)+\".root\" for i in range(1,201)\n",
    "    ],\n",
    "    \"Hqq_SMEFTsim_topU3l_Direct_cHWtil\": [\n",
    "         \"root://cmseos.fnal.gov//store/user/jdickins/vbf-eft/Hqq_SMEFTsim_topU3l_Direct_cHWtil/Hqq_SMEFTsim_topU3l_Direct_cHWtil/230918_220906/0000/VBFH_SMEFTsim_\"+str(i)+\".root\" for i in range(1,201)\n",
    "    ],\n",
    "    \"Hqq_SMEFTsim_topU3l_Direct_cHbox\": [\n",
    "         \"root://cmseos.fnal.gov//store/user/jdickins/vbf-eft/Hqq_SMEFTsim_topU3l_Direct_cHbox/Hqq_SMEFTsim_topU3l_Direct_cHbox/230918_220925/0000/VBFH_SMEFTsim_\"+str(i)+\".root\" for i in range(1,201)\n",
    "    ],\n",
    "    \"Hqq_SMEFTsim_topU3l_Direct_cHj1\": [\n",
    "         \"root://cmseos.fnal.gov//store/user/jdickins/vbf-eft/Hqq_SMEFTsim_topU3l_Direct_cHj1/Hqq_SMEFTsim_topU3l_Direct_cHj1/230918_221045/0000/VBFH_SMEFTsim_\"+str(i)+\".root\" for i in range(1,201)\n",
    "    ],\n",
    "    \"Hqq_SMEFTsim_topU3l_Direct_cHj3\": [\n",
    "         \"root://cmseos.fnal.gov//store/user/jdickins/vbf-eft/Hqq_SMEFTsim_topU3l_Direct_cHj3/Hqq_SMEFTsim_topU3l_Direct_cHj3/230918_221110/0000/VBFH_SMEFTsim_\"+str(i)+\".root\" for i in range(1,201)\n",
    "    ],\n",
    "}"
   ]
  },
  {
   "cell_type": "code",
   "execution_count": 3,
   "id": "894a0fe4",
   "metadata": {},
   "outputs": [],
   "source": [
    "def run_samp(sample):\n",
    "\n",
    "    fileset = {}\n",
    "    fileset[sample] = all_filesets[sample]\n",
    "    outfile = \"coffea/\"+sample+\".coffea\"\n",
    "    \n",
    "    p = vbfprocessor.VBFProcessor(isMC=True)\n",
    "    args = {'savemetrics':True, 'schema':NanoAODSchema}\n",
    "\n",
    "    output = processor.run_uproot_job(\n",
    "        fileset,\n",
    "        treename=\"Events\",\n",
    "        processor_instance=p,\n",
    "        executor=processor.iterative_executor,#executor=processor.dask_executor,\n",
    "        executor_args={'schema': NanoAODSchema,'workers': 4},\n",
    "        chunksize=50000,\n",
    "        )\n",
    "\n",
    "    util.save(output, outfile)\n",
    "    print(\"saved \" + outfile)"
   ]
  },
  {
   "cell_type": "code",
   "execution_count": null,
   "id": "08178176",
   "metadata": {},
   "outputs": [
    {
     "data": {
      "text/html": [
       "<pre style=\"white-space:pre;overflow-x:auto;line-height:normal;font-family:Menlo,'DejaVu Sans Mono',consolas,'Courier New',monospace\"><span style=\"color: #000080; text-decoration-color: #000080; font-weight: bold\">Processing</span> <span style=\"color: #800080; text-decoration-color: #800080\"> 36%</span> <span style=\"color: #f92672; text-decoration-color: #f92672\">━━━━━━━━━━━━</span><span style=\"color: #3a3a3a; text-decoration-color: #3a3a3a\">╺━━━━━━━━━━━━━━━━━━━━━</span> <span style=\"color: #000080; text-decoration-color: #000080; font-weight: bold\">72/200</span> [ <span style=\"color: #808000; text-decoration-color: #808000\">0:16:14</span> &lt; <span style=\"color: #008080; text-decoration-color: #008080\">0:29:05</span> | <span style=\"color: #800000; text-decoration-color: #800000\">0.1</span> <span style=\"color: #800000; text-decoration-color: #800000\">chunk/s</span> ]\n",
       "</pre>\n"
      ],
      "text/plain": [
       "\u001b[1;34mProcessing\u001b[0m \u001b[35m 36%\u001b[0m \u001b[38;2;249;38;114m━━━━━━━━━━━━\u001b[0m\u001b[38;5;237m╺\u001b[0m\u001b[38;5;237m━━━━━━━━━━━━━━━━━━━━━\u001b[0m \u001b[1;34m72/200\u001b[0m [ \u001b[33m0:16:14\u001b[0m < \u001b[36m0:29:05\u001b[0m | \u001b[31m0.1\u001b[0m \u001b[31mchunk/s\u001b[0m ]\n"
      ]
     },
     "metadata": {},
     "output_type": "display_data"
    },
    {
     "name": "stderr",
     "output_type": "stream",
     "text": [
      "/cvmfs/cms.cern.ch/slc7_amd64_gcc10/external/py3-uproot/4.2.2-2c5761a9de164cd2dd3fc5b9fb4a4ff8/lib/python3.9/site-packages/uproot/reading.py:171: FutureWarning: XRootD unknown is not fully supported; either upgrade to 5.2.0+ or set\n",
      "\n",
      "    open.defaults[\"xrootd_handler\"] = uproot.MultithreadedXRootDSource\n",
      "\n",
      "  warnings.warn(message, FutureWarning)\n"
     ]
    }
   ],
   "source": [
    "for s in all_filesets.keys():\n",
    "    \n",
    "    outfile = \"coffea/\"+s+\".coffea\"\n",
    "    if not os.path.exists(outfile) and 'Hqq' in s:\n",
    "        print(s)\n",
    "        run_samp(s)"
   ]
  },
  {
   "cell_type": "code",
   "execution_count": null,
   "id": "9ece14f9",
   "metadata": {},
   "outputs": [],
   "source": []
  }
 ],
 "metadata": {
  "kernelspec": {
   "display_name": "Python 3 (ipykernel)",
   "language": "python",
   "name": "python3"
  },
  "language_info": {
   "codemirror_mode": {
    "name": "ipython",
    "version": 3
   },
   "file_extension": ".py",
   "mimetype": "text/x-python",
   "name": "python",
   "nbconvert_exporter": "python",
   "pygments_lexer": "ipython3",
   "version": "3.9.6"
  }
 },
 "nbformat": 4,
 "nbformat_minor": 5
}

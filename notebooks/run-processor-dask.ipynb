{
 "cells": [
  {
   "cell_type": "code",
   "execution_count": null,
   "id": "ed9dc7d4",
   "metadata": {},
   "outputs": [],
   "source": [
    "from coffea import util, processor\n",
    "from coffea.nanoevents import NanoEventsFactory, NanoAODSchema\n",
    "\n",
    "import vbfprocessor\n",
    "import awkward as ak\n",
    "import uproot\n",
    "\n",
    "import time"
   ]
  },
  {
   "cell_type": "code",
   "execution_count": null,
   "id": "c5284b49",
   "metadata": {},
   "outputs": [],
   "source": [
    "sample = \"VBF_SMEFTsim_topU3l_Quad_cHW\""
   ]
  },
  {
   "cell_type": "code",
   "execution_count": null,
   "id": "de2d0e9c",
   "metadata": {},
   "outputs": [],
   "source": [
    "all_filesets = {\n",
    "    \"VBF_SMEFTsim_topU3l_NP1\": [\n",
    "        \"root://cmseos.fnal.gov//store/user/jdickins/vbf-eft/VBF_SMEFTsim_topU3l_NP1/VBF_SMEFTsim_topU3l_NP1/230526_132704/0000/VBFH_SMEFTsim_\"+str(i)+\".root\" for i in range(1,201)\n",
    "    ],\n",
    "    \"VBF_SMEFTsim_topU3l_Direct_cHbox\": [\n",
    "         \"root://cmseos.fnal.gov//store/user/jennetd/vbf-eft/VBF_SMEFTsim_topU3l_Direct_cHbox/VBF_SMEFTsim_topU3l_Direct_cHbox/230919_233803/0000/VBFH_SMEFTsim_\"+str(i)+\".root\" for i in range(1,201)\n",
    "    ],\n",
    "    \"VBF_SMEFTsim_topU3l_Linear_cHW\": [\n",
    "         \"root://cmseos.fnal.gov//store/user/jennetd/vbf-eft/VBF_SMEFTsim_topU3l_Linear_cHW/VBF_SMEFTsim_topU3l_Linear_cHW/230920_001033/0000/VBFH_SMEFTsim_\"+str(i)+\".root\" for i in range(1,201)\n",
    "    ],\n",
    "    \"VBF_SMEFTsim_topU3l_Quad_cHW\": [\n",
    "         \"root://cmseos.fnal.gov//store/user/jennetd/vbf-eft/VBF_SMEFTsim_topU3l_Quad_cHW/VBF_SMEFTsim_topU3l_Quad_cHW/230920_001106/0000/VBFH_SMEFTsim_\"+str(i)+\".root\" for i in range(1,201)\n",
    "    ],\n",
    "    \"VBF_SMEFTsim_topU3l_Linear_cHWtil\": [\n",
    "         \"root://cmseos.fnal.gov//store/user/jennetd/vbf-eft/VBF_SMEFTsim_topU3l_Linear_cHWtil/VBF_SMEFTsim_topU3l_Linear_cHWtil/230920_003136/0000/VBFH_SMEFTsim_\"+str(i)+\".root\" for i in range(1,201)\n",
    "    ],\n",
    "    \"VBF_SMEFTsim_topU3l_Quad_cHWtil\": [\n",
    "         \"root://cmseos.fnal.gov//store/user/jennetd/vbf-eft/VBF_SMEFTsim_topU3l_Quad_cHWtil/VBF_SMEFTsim_topU3l_Quad_cHWtil/230920_003225/0000/VBFH_SMEFTsim_\"+str(i)+\".root\" for i in range(1,201)\n",
    "    ],   \n",
    "    \"VBF_SMEFTsim_topU3l_Linear_cHbox\": [\n",
    "         \"root://cmseos.fnal.gov//store/user/jennetd/vbf-eft/VBF_SMEFTsim_topU3l_Linear_cHbox/VBF_SMEFTsim_topU3l_Linear_cHbox/230919_235238/0000/VBFH_SMEFTsim_\"+str(i)+\".root\" for i in range(1,201)\n",
    "    ],\n",
    "    \"VBF_SMEFTsim_topU3l_Quad_cHbox\": [\n",
    "         \"root://cmseos.fnal.gov//store/user/jennetd/vbf-eft/VBF_SMEFTsim_topU3l_Quad_cHbox/VBF_SMEFTsim_topU3l_Quad_cHbox/230919_235331/0000/VBFH_SMEFTsim_\"+str(i)+\".root\" for i in range(1,201)\n",
    "    ],  \n",
    "    \"VBF_SMEFTsim_topU3l_Linear_cHj1\": [\n",
    "         \"root://cmseos.fnal.gov//store/user/jennetd/vbf-eft/VBF_SMEFTsim_topU3l_Linear_cHj1/VBF_SMEFTsim_topU3l_Linear_cHj1/230919_233248/0000/VBFH_SMEFTsim_\"+str(i)+\".root\" for i in range(1,201)\n",
    "    ], \n",
    "    \"VBF_SMEFTsim_topU3l_Quad_cHj1\": [\n",
    "         \"root://cmseos.fnal.gov//store/user/jennetd/vbf-eft/VBF_SMEFTsim_topU3l_Quad_cHj1/VBF_SMEFTsim_topU3l_Quad_cHj1/230919_233036/0000/VBFH_SMEFTsim_\"+str(i)+\".root\" for i in range(1,201)\n",
    "    ],\n",
    "    \"VBF_SMEFTsim_topU3l_Linear_cHj3\": [\n",
    "         \"root://cmseos.fnal.gov//store/user/jennetd/vbf-eft/VBF_SMEFTsim_topU3l_Linear_cHj3/VBF_SMEFTsim_topU3l_Linear_cHj3/230919_233413/0000/VBFH_SMEFTsim_\"+str(i)+\".root\" for i in range(1,201)\n",
    "    ], \n",
    "    \"VBF_SMEFTsim_topU3l_Quad_cHj3\": [\n",
    "         \"root://cmseos.fnal.gov//store/user/jennetd/vbf-eft/VBF_SMEFTsim_topU3l_Quad_cHj3/VBF_SMEFTsim_topU3l_Quad_cHj3/230919_233144/0000/VBFH_SMEFTsim_\"+str(i)+\".root\" for i in range(1,201)\n",
    "    ],\n",
    "    \"VBF_SMEFTsim_topU3l_Direct_cHj1\": [\n",
    "         \"root://cmseos.fnal.gov//store/user/jennetd/vbf-eft/VBFH_SMEFTsim_NPall_topU3l_cHj1_1/VBFH_SMEFTsim_NPall_topU3l_cHj1_1/230519_134829/0000/VBFH_SMEFTsim_\"+str(i)+\".root\" for i in range(1,201)\n",
    "    ],\n",
    "    \"VBF_SMEFTsim_topU3l_Direct_cHj3\": [\n",
    "         \"root://cmseos.fnal.gov//store/user/jennetd/vbf-eft/VBFH_SMEFTsim_NPall_topU3l_cHj3_1/VBFH_SMEFTsim_NPall_topU3l_cHj3_1/230519_134845/0000/VBFH_SMEFTsim_\"+str(i)+\".root\" for i in range(1,201)\n",
    "    ],\n",
    "    \"VBF_SMEFTsim_topU3l_Direct_cHW\": [\n",
    "         \"root://cmseos.fnal.gov//store/user/jennetd/vbf-eft/VBFH_SMEFTsim_NPall_topU3l_cHW_1/VBFH_SMEFTsim_NPall_topU3l_cHW_1/230519_134915/0000/VBFH_SMEFTsim_\"+str(i)+\".root\" for i in range(1,201)\n",
    "    ],\n",
    "    \"VBF_SMEFTsim_topU3l_Direct_cHWtil\": [\n",
    "         \"root://cmseos.fnal.gov//store/user/jennetd/vbf-eft/VBFH_SMEFTsim_NPall_topU3l_cHWtil_1/VBFH_SMEFTsim_NPall_topU3l_cHWtil_1/230519_134931/0000//VBFH_SMEFTsim_\"+str(i)+\".root\" for i in range(1,201)\n",
    "    ],\n",
    "    \"Hqq_SMEFTsim_topU3l_NP1\": [\n",
    "         \"root://cmseos.fnal.gov//store/user/jdickins/vbf-eft/Hqq_SMEFTsim_topU3l_NP1/Hqq_SMEFTsim_topU3l_NP1/230526_133353/0000/VBFH_SMEFTsim_\"+str(i)+\".root\" for i in range(1,201)\n",
    "    ],\n",
    "    \"Hqq_SMEFTsim_topU3l_Direct_cHW\": [\n",
    "         \"root://cmseos.fnal.gov//store/user/jdickins/vbf-eft/Hqq_SMEFTsim_topU3l_Direct_cHW/Hqq_SMEFTsim_topU3l_Direct_cHW/230918_220845/0000/VBFH_SMEFTsim_\"+str(i)+\".root\" for i in range(1,201)\n",
    "    ],\n",
    "    \"Hqq_SMEFTsim_topU3l_Direct_cHWtil\": [\n",
    "         \"root://cmseos.fnal.gov//store/user/jdickins/vbf-eft/Hqq_SMEFTsim_topU3l_Direct_cHWtil/Hqq_SMEFTsim_topU3l_Direct_cHWtil/230918_220906/0000/VBFH_SMEFTsim_\"+str(i)+\".root\" for i in range(1,201)\n",
    "    ],\n",
    "    \"Hqq_SMEFTsim_topU3l_Direct_cHbox\": [\n",
    "         \"root://cmseos.fnal.gov//store/user/jdickins/vbf-eft/Hqq_SMEFTsim_topU3l_Direct_cHbox/Hqq_SMEFTsim_topU3l_Direct_cHbox/230918_220925/0000/VBFH_SMEFTsim_\"+str(i)+\".root\" for i in range(1,201)\n",
    "    ],\n",
    "    \"Hqq_SMEFTsim_topU3l_Direct_cHj1\": [\n",
    "         \"root://cmseos.fnal.gov//store/user/jdickins/vbf-eft/Hqq_SMEFTsim_topU3l_Direct_cHj1/Hqq_SMEFTsim_topU3l_Direct_cHj1/230918_221045/0000/VBFH_SMEFTsim_\"+str(i)+\".root\" for i in range(1,201)\n",
    "    ],\n",
    "    \"Hqq_SMEFTsim_topU3l_Direct_cHj3\": [\n",
    "         \"root://cmseos.fnal.gov//store/user/jdickins/vbf-eft/Hqq_SMEFTsim_topU3l_Direct_cHj3/Hqq_SMEFTsim_topU3l_Direct_cHj3/230918_221110/0000/VBFH_SMEFTsim_\"+str(i)+\".root\" for i in range(1,201)\n",
    "    ],\n",
    "}"
   ]
  },
  {
   "cell_type": "code",
   "execution_count": null,
   "id": "894a0fe4",
   "metadata": {},
   "outputs": [],
   "source": [
    "fileset = {}\n",
    "fileset[sample] = all_filesets[sample]\n",
    "outfile = \"coffea/\"+sample+\".coffea\""
   ]
  },
  {
   "cell_type": "code",
   "execution_count": null,
   "id": "83634d04",
   "metadata": {},
   "outputs": [],
   "source": [
    "p = vbfprocessor.VBFProcessor(isMC=True)\n",
    "args = {'savemetrics':True, 'schema':NanoAODSchema}\n",
    "\n",
    "output = processor.run_uproot_job(\n",
    "        fileset,\n",
    "        treename=\"Events\",\n",
    "        processor_instance=p,\n",
    "        executor=processor.iterative_executor,#executor=processor.dask_executor,\n",
    "        executor_args={'schema': NanoAODSchema,'workers': 4},\n",
    "        chunksize=50000,\n",
    "        )\n",
    "\n",
    "util.save(output, outfile)\n",
    "print(\"saved \" + outfile)\n",
    "#print(datetime.now())"
   ]
  },
  {
   "cell_type": "code",
   "execution_count": null,
   "id": "08178176",
   "metadata": {},
   "outputs": [],
   "source": []
  }
 ],
 "metadata": {
  "kernelspec": {
   "display_name": "Python 3 (ipykernel)",
   "language": "python",
   "name": "python3"
  },
  "language_info": {
   "codemirror_mode": {
    "name": "ipython",
    "version": 3
   },
   "file_extension": ".py",
   "mimetype": "text/x-python",
   "name": "python",
   "nbconvert_exporter": "python",
   "pygments_lexer": "ipython3",
   "version": "3.9.6"
  }
 },
 "nbformat": 4,
 "nbformat_minor": 5
}
